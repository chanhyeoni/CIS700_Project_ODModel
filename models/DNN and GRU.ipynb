{
 "cells": [
  {
   "cell_type": "code",
   "execution_count": 1,
   "metadata": {},
   "outputs": [
    {
     "name": "stderr",
     "output_type": "stream",
     "text": [
      "Using TensorFlow backend.\n"
     ]
    }
   ],
   "source": [
    "# MLP for Pima Indians Dataset with 10-fold cross validation\n",
    "from __future__ import division \n",
    "from keras.models import Sequential\n",
    "from keras.layers import Dense\n",
    "from sklearn.model_selection import StratifiedKFold\n",
    "import numpy\n",
    "from sklearn import datasets\n",
    "from sklearn.preprocessing import MinMaxScaler\n",
    "# from sklearn.cross_validation import cross_val_predict\n",
    "from sklearn import linear_model\n",
    "import matplotlib.pyplot as plt\n",
    "from sklearn.model_selection import train_test_split\n",
    "# fix random seed for reproducibility\n",
    "seed = 7\n",
    "numpy.random.seed(seed)\n",
    "# load pima indians dataset\n",
    "dataset = numpy.loadtxt(\"data1.csv\", delimiter=\",\",skiprows=1)\n",
    "scaler = MinMaxScaler()\n",
    "scaler.fit(dataset)\n",
    "dataset = scaler.transform(dataset)\n",
    "# split into input (X) and output (Y) variables\n",
    "\n",
    "X = dataset[:,1:len(dataset[0])-1]\n",
    "\n",
    "Y = dataset[:,len(dataset[0])-1]\n"
   ]
  },
  {
   "cell_type": "code",
   "execution_count": null,
   "metadata": {},
   "outputs": [],
   "source": [
    "\n",
    "\n",
    "# split_ratio = 0.75\n",
    "# i_split = int(len(dataset) * (1-split_ratio))\n",
    "# X_train = X[:i_split]\n",
    "# y_train = Y[:i_split]\n",
    "# X_test = X[i_split:]\n",
    "# y_test = Y[i_split:]\n",
    "X_train, X_test, y_train, y_test = train_test_split(X, Y, test_size=0.25)\n",
    "# N_EPOCHS = 25\n",
    "# # # define 10-fold cross validation test harness\n",
    "# # kfold = StratifiedKFold(n_splits=20, shuffle=True, random_state=seed)\n",
    "# # cvscores = []\n",
    "# scores_train = []\n",
    "# scores_test = []\n",
    "# epoch = 0\n",
    "def dnn_model():\n",
    "\tmodel = Sequential()\n",
    "\tmodel.add(Dense(100, input_dim=12, activation='relu'))\n",
    "\tmodel.add(Dense(50, activation='relu'))\n",
    "\tmodel.add(Dense(25, activation='relu'))\n",
    "\tmodel.add(Dense(12, activation='relu'))\n",
    "\tmodel.add(Dense(1, activation='sigmoid'))\n",
    "\t# Compile model\n",
    "\tmodel.compile(loss='binary_crossentropy', optimizer='adam', metrics=['accuracy'])\n",
    "\treturn model\n",
    "# EPOCH\n",
    "epoch = 0\n",
    "model = dnn_model()\n",
    "history = model.fit(X_train, y_train, validation_data = (X_test,y_test),epochs=15, batch_size=100)\n",
    "pred = model.predict(X_test)\n",
    "positive = 0\n",
    "negative = 0\n",
    "tp = 0\n",
    "tn = 0\n",
    "fp = 0\n",
    "fn = 0\n",
    "for i in range(len(X_test)):\n",
    "#     print(pred[i])\n",
    "#     print(y_test[i])\n",
    "    if y_test[i] == 0:\n",
    "        negative += 1\n",
    "    else:\n",
    "        positive +=1\n",
    "    if pred[i] >= 0.5 and y_test[i] == 1:\n",
    "        tp+=1\n",
    "    elif pred[i] <= 0.5 and y_test[i] == 0:\n",
    "        tn+=1\n",
    "    elif pred[i] <= 0.5 and y_test[i] == 1:\n",
    "        fn+=1\n",
    "    elif pred[i] >= 0.5 and y_test[i] == 0:\n",
    "        fp+=1\n",
    "print(tp/positive)\n",
    "print(tn/negative)\n",
    "print(fp/negative)\n",
    "print(fn/positive)\n",
    "\n",
    "precision = tp/(tp+fp)\n",
    "recall = tp/(tp+fn)\n",
    "f1 = 2*precision*recall/(precision+recall)\n"
   ]
  },
  {
   "cell_type": "code",
   "execution_count": null,
   "metadata": {},
   "outputs": [],
   "source": [
    "print(precision)\n",
    "print(recall)\n",
    "print(f1)"
   ]
  },
  {
   "cell_type": "code",
   "execution_count": null,
   "metadata": {},
   "outputs": [],
   "source": [
    "# list all data in history\n",
    "print(history.history.keys())\n",
    "# summarize history for accuracy\n",
    "plt.plot(history.history['acc'])\n",
    "plt.plot(history.history['val_acc'])\n",
    "plt.title('model accuracy')\n",
    "plt.ylabel('accuracy')\n",
    "plt.xlabel('epoch')\n",
    "plt.legend(['train', 'test'], loc='upper left')\n",
    "plt.show()\n",
    "# summarize history for loss\n",
    "plt.plot(history.history['loss'])\n",
    "plt.plot(history.history['val_loss'])\n",
    "plt.title('model loss')\n",
    "plt.ylabel('loss')\n",
    "plt.xlabel('epoch')\n",
    "plt.legend(['train', 'test'], loc='upper left')\n",
    "plt.show()\n",
    "\n",
    "# plt.plot(scores_train, color='green', alpha=0.8, label='Train')\n",
    "# plt.plot(scores_test, color='magenta', alpha=0.8, label='Test')\n",
    "# plt.title(\"Accuracy over epochs\", fontsize=14)\n",
    "# plt.xlabel('Epochs')\n",
    "# plt.legend(loc='upper left')\n",
    "# plt.show()"
   ]
  },
  {
   "cell_type": "code",
   "execution_count": null,
   "metadata": {},
   "outputs": [],
   "source": [
    "# \"\"\" Plot \"\"\"\n",
    "# fig, ax = plt.subplots(2, sharex=True, sharey=True)\n",
    "# ax[0].plot(scores_train)\n",
    "# ax[0].set_title('Train')\n",
    "# ax[1].plot(scores_test)\n",
    "# ax[1].set_title('Test')\n",
    "# fig.suptitle(\"Accuracy over epochs\", fontsize=14)\n",
    "# plt.show()"
   ]
  },
  {
   "cell_type": "code",
   "execution_count": 47,
   "metadata": {},
   "outputs": [
    {
     "name": "stderr",
     "output_type": "stream",
     "text": [
      "D:\\Anaconda\\lib\\site-packages\\ipykernel_launcher.py:35: UserWarning: Update your `Dense` call to the Keras 2 API: `Dense(units=1)`\n"
     ]
    },
    {
     "name": "stdout",
     "output_type": "stream",
     "text": [
      "_________________________________________________________________\n",
      "Layer (type)                 Output Shape              Param #   \n",
      "=================================================================\n",
      "gru_24 (GRU)                 (None, 12, 50)            7800      \n",
      "_________________________________________________________________\n",
      "gru_25 (GRU)                 (None, 12, 50)            15150     \n",
      "_________________________________________________________________\n",
      "dense_13 (Dense)             (None, 12, 1)             51        \n",
      "_________________________________________________________________\n",
      "activation_13 (Activation)   (None, 12, 1)             0         \n",
      "=================================================================\n",
      "Total params: 23,001\n",
      "Trainable params: 23,001\n",
      "Non-trainable params: 0\n",
      "_________________________________________________________________\n",
      "(36268, 12, 1)\n",
      "(12090, 12, 1)\n",
      "(36268, 12, 1)\n",
      "(12090, 12, 1)\n",
      "Train on 36268 samples, validate on 12090 samples\n",
      "Epoch 1/15\n",
      "36268/36268 [==============================] - 7s 180us/step - loss: 0.0981 - acc: 0.8940 - val_loss: 0.0579 - val_acc: 0.9167\n",
      "Epoch 2/15\n",
      "36268/36268 [==============================] - 3s 77us/step - loss: 0.0567 - acc: 0.9167 - val_loss: 0.0542 - val_acc: 0.9167\n",
      "Epoch 3/15\n",
      "36268/36268 [==============================] - 3s 85us/step - loss: 0.0471 - acc: 0.9052 - val_loss: 0.0357 - val_acc: 0.9167\n",
      "Epoch 4/15\n",
      "36268/36268 [==============================] - 3s 77us/step - loss: 0.0307 - acc: 0.9165 - val_loss: 0.0252 - val_acc: 0.9167\n",
      "Epoch 5/15\n",
      "36268/36268 [==============================] - 3s 75us/step - loss: 0.0207 - acc: 0.9745 - val_loss: 0.0147 - val_acc: 0.9997\n",
      "Epoch 6/15\n",
      "36268/36268 [==============================] - 3s 71us/step - loss: 0.0098 - acc: 0.9997 - val_loss: 0.0050 - val_acc: 0.9997\n",
      "Epoch 7/15\n",
      "36268/36268 [==============================] - 3s 71us/step - loss: 0.0029 - acc: 0.9997 - val_loss: 0.0013 - val_acc: 0.9997\n",
      "Epoch 8/15\n",
      "36268/36268 [==============================] - 3s 72us/step - loss: 7.8270e-04 - acc: 0.9997 - val_loss: 4.6770e-04 - val_acc: 0.9997\n",
      "Epoch 9/15\n",
      "36268/36268 [==============================] - 3s 80us/step - loss: 3.8702e-04 - acc: 0.9997 - val_loss: 3.4777e-04 - val_acc: 0.9997\n",
      "Epoch 10/15\n",
      "36268/36268 [==============================] - 3s 75us/step - loss: 3.3249e-04 - acc: 0.9997 - val_loss: 3.3075e-04 - val_acc: 0.9997\n",
      "Epoch 11/15\n",
      "36268/36268 [==============================] - 3s 77us/step - loss: 3.2208e-04 - acc: 0.9997 - val_loss: 3.2685e-04 - val_acc: 0.9997\n",
      "Epoch 12/15\n",
      "36268/36268 [==============================] - 3s 74us/step - loss: 3.1050e-04 - acc: 0.9997 - val_loss: 3.2376e-04 - val_acc: 0.9997\n",
      "Epoch 13/15\n",
      "36268/36268 [==============================] - 3s 76us/step - loss: 3.1227e-04 - acc: 0.9997 - val_loss: 3.2102e-04 - val_acc: 0.9997\n",
      "Epoch 14/15\n",
      "36268/36268 [==============================] - 3s 74us/step - loss: 3.0316e-04 - acc: 0.9997 - val_loss: 3.1978e-04 - val_acc: 0.9997\n",
      "Epoch 15/15\n",
      "36268/36268 [==============================] - 3s 79us/step - loss: 3.0156e-04 - acc: 0.9997 - val_loss: 3.1837e-04 - val_acc: 0.9997\n"
     ]
    }
   ],
   "source": [
    "import keras\n",
    "from keras.layers import GRU, LSTM, CuDNNGRU, CuDNNLSTM, Activation, Embedding\n",
    "import numpy as np\n",
    "from keras.utils import to_categorical\n",
    "split_ratio = 0.25\n",
    "i_split = int(len(dataset) * (1-split_ratio))\n",
    "X_train = X[:i_split,:]\n",
    "y_train = Y[:i_split]\n",
    "X_test = X[i_split:,:]\n",
    "y_test = Y[i_split:]\n",
    "X_train = np.asarray(X_train)\n",
    "X_test = np.asarray(X_test)\n",
    "y_train = np.asarray(y_train)\n",
    "y_test = np.asarray(y_test)\n",
    "\n",
    "X_train = np.reshape(X_train, (X_train.shape[0],X_train.shape[1],1))\n",
    "X_test = np.reshape(X_test, (X_test.shape[0],X_test.shape[1],1))\n",
    "\n",
    "y_train = to_categorical(y_train, 12)\n",
    "y_test = to_categorical(y_test, 12)\n",
    "\n",
    "\n",
    "y_test = np.reshape(y_test, (y_test.shape[0],y_test.shape[1],1))\n",
    "y_train =  np.reshape(y_train, (y_train.shape[0],y_test.shape[1],1))\n",
    "\n",
    "# X_train = X_train.reshape(i_split,1, 12)\n",
    "# y_train = y_train.reshape( i_split,1, 1)\n",
    "# X_test = X_test.reshape(len(dataset) - i_split,1, 12)\n",
    "# y_test = y_test.reshape(len(dataset) - i_split, 1, 1)\n",
    "# \n",
    "def gru_model():\n",
    "    model = Sequential()\n",
    "    model.add(GRU(units=50, activation=('tanh'), recurrent_dropout=0.5,input_shape = (X_train.shape[1],X_train.shape[2]),return_sequences = True))\n",
    "    model.add(GRU(50,  activation=('relu'), return_sequences = True, recurrent_dropout=0.2, stateful = False))\n",
    "    model.add(Dense(output_dim=1))\n",
    "    model.add(Activation('sigmoid'))\n",
    "    model.compile(loss=keras.losses.mean_squared_error, optimizer='rmsprop', metrics = ['accuracy'])\n",
    "    model.summary()\n",
    "    return model\n",
    "    \n",
    "model = gru_model()\n",
    "print(X_train.shape)\n",
    "print(X_test.shape)\n",
    "print(y_train.shape)\n",
    "print(y_test.shape)\n",
    "history = model.fit(X_train, y_train, batch_size = 1000, epochs = 15, validation_data=(X_test, y_test))\n",
    "pred = model.predict(X_test)\n"
   ]
  },
  {
   "cell_type": "code",
   "execution_count": 48,
   "metadata": {},
   "outputs": [
    {
     "name": "stdout",
     "output_type": "stream",
     "text": [
      "(12090, 12, 1)\n",
      "(12090, 12, 1)\n",
      "[[0.00432205]\n",
      " [0.9995575 ]\n",
      " [0.        ]\n",
      " ...\n",
      " [0.        ]\n",
      " [0.        ]\n",
      " [0.        ]]\n"
     ]
    }
   ],
   "source": [
    "print(pred.shape)\n",
    "print(y_test.shape)\n",
    "pred = pred.reshape(pred.shape[0]*pred.shape[1], 1)\n",
    "y_test = y_test.reshape(pred.shape[0]*pred.shape[1], 1)\n",
    "print(pred)"
   ]
  },
  {
   "cell_type": "code",
   "execution_count": 49,
   "metadata": {},
   "outputs": [
    {
     "name": "stdout",
     "output_type": "stream",
     "text": [
      "0.998014888337469\n",
      "0.9998270546657644\n",
      "0.00017294533423565682\n",
      "0.0019851116625310174\n"
     ]
    }
   ],
   "source": [
    "positive = 0\n",
    "negative = 0\n",
    "tp = 0\n",
    "tn = 0\n",
    "fp = 0\n",
    "fn = 0\n",
    "for i in range(len(pred)):\n",
    "#     print(pred[i])\n",
    "#     print(y_test[i])\n",
    "    if y_test[i] == 0:\n",
    "        negative += 1\n",
    "    else:\n",
    "        positive +=1\n",
    "    if pred[i] >= 0.5 and y_test[i] == 1:\n",
    "        tp+=1\n",
    "    elif pred[i] <= 0.5 and y_test[i] == 0:\n",
    "        tn+=1\n",
    "    elif pred[i] <= 0.5 and y_test[i] == 1:\n",
    "        fn+=1\n",
    "    elif pred[i] >= 0.5 and y_test[i] == 0:\n",
    "        fp+=1\n",
    "print(tp/positive)\n",
    "print(tn/negative)\n",
    "print(fp/negative)\n",
    "print(fn/positive)"
   ]
  },
  {
   "cell_type": "code",
   "execution_count": 50,
   "metadata": {},
   "outputs": [
    {
     "name": "stdout",
     "output_type": "stream",
     "text": [
      "0.9980974439573166\n",
      "0.998014888337469\n",
      "0.9980561644402167\n"
     ]
    }
   ],
   "source": [
    "precision = tp/(tp+fp)\n",
    "recall = tp/(tp+fn)\n",
    "f1 = 2*precision*recall/(precision+recall)\n",
    "print(precision)\n",
    "print(recall)\n",
    "print(f1)"
   ]
  },
  {
   "cell_type": "code",
   "execution_count": 51,
   "metadata": {},
   "outputs": [
    {
     "name": "stdout",
     "output_type": "stream",
     "text": [
      "dict_keys(['val_loss', 'val_acc', 'loss', 'acc'])\n"
     ]
    },
    {
     "data": {
      "image/png": "[encoded data removed]",
      "text/plain": [
       "<Figure size 432x288 with 1 Axes>"
      ]
     },
     "metadata": {
      "needs_background": "light"
     },
     "output_type": "display_data"
    },
    {
     "data": {
      "image/png": "[encoded data removed]",
      "text/plain": [
       "<Figure size 432x288 with 1 Axes>"
      ]
     },
     "metadata": {
      "needs_background": "light"
     },
     "output_type": "display_data"
    }
   ],
   "source": [
    "# list all data in history\n",
    "print(history.history.keys())\n",
    "# summarize history for accuracy\n",
    "plt.plot(history.history['acc'])\n",
    "plt.plot(history.history['val_acc'])\n",
    "plt.title('model accuracy')\n",
    "plt.ylabel('accuracy')\n",
    "plt.xlabel('epoch')\n",
    "plt.legend(['train', 'test'], loc='upper left')\n",
    "plt.show()\n",
    "# summarize history for loss\n",
    "plt.plot(history.history['loss'])\n",
    "plt.plot(history.history['val_loss'])\n",
    "plt.title('model loss')\n",
    "plt.ylabel('loss')\n",
    "plt.xlabel('epoch')\n",
    "plt.legend(['train', 'test'], loc='upper left')\n",
    "plt.show()\n"
   ]
  },
  {
   "cell_type": "code",
   "execution_count": null,
   "metadata": {},
   "outputs": [],
   "source": []
  },
  {
   "cell_type": "code",
   "execution_count": null,
   "metadata": {},
   "outputs": [],
   "source": []
  }
 ],
 "metadata": {
  "kernelspec": {
   "display_name": "Python 3",
   "language": "python",
   "name": "python3"
  },
  "language_info": {
   "codemirror_mode": {
    "name": "ipython",
    "version": 3
   },
   "file_extension": ".py",
   "mimetype": "text/x-python",
   "name": "python",
   "nbconvert_exporter": "python",
   "pygments_lexer": "ipython3",
   "version": "3.7.3"
  }
 },
 "nbformat": 4,
 "nbformat_minor": 2
}
